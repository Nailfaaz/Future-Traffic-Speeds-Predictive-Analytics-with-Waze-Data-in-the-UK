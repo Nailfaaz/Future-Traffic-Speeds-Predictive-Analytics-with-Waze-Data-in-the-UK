{
 "cells": [
  {
   "cell_type": "code",
   "execution_count": 1,
   "metadata": {},
   "outputs": [
    {
     "name": "stderr",
     "output_type": "stream",
     "text": [
      "c:\\Users\\Goethe\\anaconda3\\lib\\site-packages\\scipy\\__init__.py:155: UserWarning: A NumPy version >=1.18.5 and <1.25.0 is required for this version of SciPy (detected version 1.25.2\n",
      "  warnings.warn(f\"A NumPy version >={np_minversion} and <{np_maxversion}\"\n"
     ]
    }
   ],
   "source": [
    "from sklearn.ensemble import RandomForestRegressor\n",
    "import seaborn as sns\n",
    "import matplotlib.pyplot as plt\n",
    "import os\n",
    "import pandas as pd\n",
    "import numpy as np\n",
    "import warnings\n",
    "warnings.filterwarnings('ignore')"
   ]
  },
  {
   "cell_type": "markdown",
   "metadata": {},
   "source": [
    "# Download Data dengan menggunakan gdown"
   ]
  },
  {
   "cell_type": "code",
   "execution_count": 2,
   "metadata": {},
   "outputs": [
    {
     "name": "stderr",
     "output_type": "stream",
     "text": [
      "Downloading...\n",
      "From: https://drive.google.com/u/3/uc?id=1IW5DV9sW0FIkD_EJXzZkqpuwZ5sGXA2y&export=download\n",
      "To: e:\\1_D\\Ristek_Datathon\\Penyisihan\\Notebook\\Notebook Kumpul\\train.csv\n",
      "100%|██████████| 24.7M/24.7M [01:33<00:00, 264kB/s]\n"
     ]
    }
   ],
   "source": [
    "import gdown\n",
    "\n",
    "file_url = 'https://drive.google.com/u/3/uc?id=1IW5DV9sW0FIkD_EJXzZkqpuwZ5sGXA2y&export=download'\n",
    "output_file = 'train.csv'\n",
    "\n",
    "gdown.download(file_url, output_file, quiet=False)\n",
    "\n",
    "df = pd.read_csv('train.csv')"
   ]
  },
  {
   "cell_type": "code",
   "execution_count": 3,
   "metadata": {},
   "outputs": [
    {
     "name": "stderr",
     "output_type": "stream",
     "text": [
      "Downloading...\n",
      "From: https://drive.google.com/u/3/uc?id=19ZfNNAELrkmEyPVNDYKc59tSQeukkIUz&export=download\n",
      "To: e:\\1_D\\Ristek_Datathon\\Penyisihan\\Notebook\\Notebook Kumpul\\test.csv\n",
      "100%|██████████| 7.80M/7.80M [00:20<00:00, 390kB/s]\n"
     ]
    }
   ],
   "source": [
    "file_url = 'https://drive.google.com/u/3/uc?id=19ZfNNAELrkmEyPVNDYKc59tSQeukkIUz&export=download'\n",
    "output_file = 'test.csv'\n",
    "\n",
    "gdown.download(file_url, output_file, quiet=False)\n",
    "\n",
    "test = pd.read_csv('test.csv')"
   ]
  },
  {
   "cell_type": "markdown",
   "metadata": {},
   "source": [
    "# Memisahkan data menjadi per bagian jalan"
   ]
  },
  {
   "cell_type": "code",
   "execution_count": 13,
   "metadata": {},
   "outputs": [],
   "source": [
    "df = pd.read_csv('train.csv')\n",
    "test = pd.read_csv('test.csv')"
   ]
  },
  {
   "cell_type": "code",
   "execution_count": 14,
   "metadata": {},
   "outputs": [],
   "source": [
    "# membuat fitur untuk mendapatkan bagian jalan\n",
    "df['id_bagian_jalan'] = [str(df.id_jalan[i]) + '_' + str(df.id_titik_mulai[i]) + '_' + str(df.id_titik_akhir[i]) for i in range(len(df))]\n",
    "test['id_bagian_jalan'] = [str(test.id_jalan[i]) + '_' + str(test.id_titik_mulai[i]) + '_' + str(test.id_titik_akhir[i]) for i in range(len(test))]\n",
    "df.drop(['id_jalan', 'id_titik_mulai', 'id_titik_akhir'], axis=1, inplace=True)\n",
    "test.drop(['id_jalan', 'id_titik_mulai', 'id_titik_akhir'], axis=1, inplace=True)"
   ]
  },
  {
   "cell_type": "code",
   "execution_count": 15,
   "metadata": {},
   "outputs": [],
   "source": [
    "# memisahkan dataset sebanyak 934 dataset tergantung id_bagian_jalannya (jumlah bagian jalan yang terdapat dalam data)\n",
    "try:\n",
    "    os.mkdir('df_per_bagian_jalan')\n",
    "except FileExistsError:\n",
    "    pass\n",
    "\n",
    "for i in range(len(df.id_bagian_jalan.unique())):\n",
    "    id_bagian_jalan_unique = df.id_bagian_jalan.unique()[i]\n",
    "    df_temp = df[df.id_bagian_jalan == id_bagian_jalan_unique]\n",
    "    df_temp.to_csv('df_per_bagian_jalan/df'+str(id_bagian_jalan_unique)+'.csv', index=False)\n",
    "\n",
    "try:\n",
    "    os.mkdir('data_test_per_id_bagian_jalan')\n",
    "except FileExistsError:\n",
    "    pass\n",
    "\n",
    "for i in range(len(test.id_bagian_jalan.unique())):\n",
    "    id_bagian_jalan_unique = test.id_bagian_jalan.unique()[i]\n",
    "    test_temp = test[test.id_bagian_jalan == id_bagian_jalan_unique]\n",
    "    test_temp.to_csv('data_test_per_id_bagian_jalan/'+str(id_bagian_jalan_unique)+'.csv', index=False)"
   ]
  },
  {
   "cell_type": "markdown",
   "metadata": {},
   "source": [
    "# Melakukan interpolasi data pada data train"
   ]
  },
  {
   "cell_type": "code",
   "execution_count": 16,
   "metadata": {},
   "outputs": [
    {
     "data": {
      "text/html": [
       "<div>\n",
       "<style scoped>\n",
       "    .dataframe tbody tr th:only-of-type {\n",
       "        vertical-align: middle;\n",
       "    }\n",
       "\n",
       "    .dataframe tbody tr th {\n",
       "        vertical-align: top;\n",
       "    }\n",
       "\n",
       "    .dataframe thead th {\n",
       "        text-align: right;\n",
       "    }\n",
       "</style>\n",
       "<table border=\"1\" class=\"dataframe\">\n",
       "  <thead>\n",
       "    <tr style=\"text-align: right;\">\n",
       "      <th></th>\n",
       "      <th>waktu_setempat</th>\n",
       "    </tr>\n",
       "  </thead>\n",
       "  <tbody>\n",
       "    <tr>\n",
       "      <th>0</th>\n",
       "      <td>2020-02-01 01:00:00+00:00</td>\n",
       "    </tr>\n",
       "    <tr>\n",
       "      <th>1</th>\n",
       "      <td>2020-02-01 02:00:00+00:00</td>\n",
       "    </tr>\n",
       "    <tr>\n",
       "      <th>2</th>\n",
       "      <td>2020-02-01 03:00:00+00:00</td>\n",
       "    </tr>\n",
       "    <tr>\n",
       "      <th>3</th>\n",
       "      <td>2020-02-01 04:00:00+00:00</td>\n",
       "    </tr>\n",
       "    <tr>\n",
       "      <th>4</th>\n",
       "      <td>2020-02-01 05:00:00+00:00</td>\n",
       "    </tr>\n",
       "    <tr>\n",
       "      <th>...</th>\n",
       "      <td>...</td>\n",
       "    </tr>\n",
       "    <tr>\n",
       "      <th>522</th>\n",
       "      <td>2020-02-22 19:00:00+00:00</td>\n",
       "    </tr>\n",
       "    <tr>\n",
       "      <th>523</th>\n",
       "      <td>2020-02-22 20:00:00+00:00</td>\n",
       "    </tr>\n",
       "    <tr>\n",
       "      <th>524</th>\n",
       "      <td>2020-02-22 21:00:00+00:00</td>\n",
       "    </tr>\n",
       "    <tr>\n",
       "      <th>525</th>\n",
       "      <td>2020-02-22 22:00:00+00:00</td>\n",
       "    </tr>\n",
       "    <tr>\n",
       "      <th>526</th>\n",
       "      <td>2020-02-22 23:00:00+00:00</td>\n",
       "    </tr>\n",
       "  </tbody>\n",
       "</table>\n",
       "<p>527 rows × 1 columns</p>\n",
       "</div>"
      ],
      "text/plain": [
       "                waktu_setempat\n",
       "0    2020-02-01 01:00:00+00:00\n",
       "1    2020-02-01 02:00:00+00:00\n",
       "2    2020-02-01 03:00:00+00:00\n",
       "3    2020-02-01 04:00:00+00:00\n",
       "4    2020-02-01 05:00:00+00:00\n",
       "..                         ...\n",
       "522  2020-02-22 19:00:00+00:00\n",
       "523  2020-02-22 20:00:00+00:00\n",
       "524  2020-02-22 21:00:00+00:00\n",
       "525  2020-02-22 22:00:00+00:00\n",
       "526  2020-02-22 23:00:00+00:00\n",
       "\n",
       "[527 rows x 1 columns]"
      ]
     },
     "execution_count": 16,
     "metadata": {},
     "output_type": "execute_result"
    }
   ],
   "source": [
    "# membuat datafram yang berisi keseluruhan unique value dari 'waktu_setempat'\n",
    "df_waktu = pd.DataFrame({'waktu_setempat': df.waktu_setempat.unique()})\n",
    "df_waktu"
   ]
  },
  {
   "cell_type": "code",
   "execution_count": 17,
   "metadata": {},
   "outputs": [],
   "source": [
    "try:\n",
    "    os.mkdir('sudah_interpolasi_df_id jalan_id titik mulai_id titik akhir_csv/')\n",
    "except FileExistsError:\n",
    "    pass\n",
    "\n",
    "direktori = 'df_per_bagian_jalan/'\n",
    "\n",
    "daftar_file = os.listdir(direktori)\n",
    "\n",
    "for nama_file in daftar_file:\n",
    "    df_Nan = pd.read_csv(direktori + nama_file)\n",
    "    df_belum_interpolasi = df_waktu.join(df_Nan.set_index('waktu_setempat'), on='waktu_setempat')\n",
    "    if (df_belum_interpolasi.rerata_kecepatan.isna().sum() == 0):\n",
    "        df_belum_interpolasi.to_csv('sudah_interpolasi_df_id jalan_id titik mulai_id titik akhir_csv/sudah_interpolasi_' + nama_file, index=False)\n",
    "    else:\n",
    "        df_belum_interpolasi.id_bagian_jalan.fillna(df_belum_interpolasi.id_bagian_jalan.unique()[0], inplace=True)\n",
    "        x = np.array(df_belum_interpolasi.index[df_belum_interpolasi.isna().any(axis=1)])\n",
    "        xp = np.array(df_belum_interpolasi.index[df_belum_interpolasi.notna().all(axis=1)])\n",
    "        yp = np.array(df_belum_interpolasi.loc[df_belum_interpolasi['rerata_kecepatan'].notna(), 'rerata_kecepatan'])\n",
    "        hasil_interpolasi = np.interp(x, xp, yp)\n",
    "        for i in range(len(hasil_interpolasi)):\n",
    "            df_belum_interpolasi['rerata_kecepatan'][x[i]] = hasil_interpolasi[i]\n",
    "        df_belum_interpolasi.to_csv('sudah_interpolasi_df_id jalan_id titik mulai_id titik akhir_csv/sudah_interpolasi_' + nama_file, index=False)"
   ]
  },
  {
   "cell_type": "markdown",
   "metadata": {},
   "source": [
    "# Melakukan prediksi dengan model terbaik"
   ]
  },
  {
   "cell_type": "code",
   "execution_count": 18,
   "metadata": {},
   "outputs": [],
   "source": [
    "try:\n",
    "    os.mkdir('df_hasil_prediksi_RF/')\n",
    "except FileExistsError:\n",
    "    pass\n",
    "\n",
    "direktori = 'data_test_per_id_bagian_jalan/'\n",
    "\n",
    "daftar_file = os.listdir(direktori)\n",
    "\n",
    "total_id = []\n",
    "total_forecast = []\n",
    "\n",
    "\n",
    "for nama_file in daftar_file:\n",
    "    test = pd.read_csv(direktori + nama_file)\n",
    "    df = pd.read_csv('sudah_interpolasi_df_id jalan_id titik mulai_id titik akhir_csv/sudah_interpolasi_df' + nama_file)\n",
    "\n",
    "    test_id = test['id']\n",
    "    test.drop(['id'], axis=1, inplace=True)\n",
    "\n",
    "    test['tanggal'] = test['waktu_setempat'].str[8:10]\n",
    "    test['jam'] = test['waktu_setempat'].str[11:13]\n",
    "\n",
    "    test['tanggal'] = test['tanggal'].astype('int64')\n",
    "    test['jam'] = test['jam'].astype('int64')\n",
    "\n",
    "    #change date to the name of the day using mod\n",
    "    day_dict = {\n",
    "        0: 'Friday',\n",
    "        1: 'Saturday',\n",
    "        2: 'Sunday',\n",
    "        3: 'Monday',\n",
    "        4: 'Tuesday',\n",
    "        5: 'Wednesday',\n",
    "        6: 'Thursday',\n",
    "    }\n",
    "\n",
    "    test['hari'] = test['tanggal'].map(lambda x: day_dict[x % 7])\n",
    "    test['weekend'] = test['hari'].map(lambda x: 1 if x == 'Saturday' or x == 'Sunday' else 0)\n",
    "\n",
    "    df['tanggal'] = df['waktu_setempat'].str[8:10]\n",
    "    df['jam'] = df['waktu_setempat'].str[11:13]\n",
    "\n",
    "    df['tanggal'] = df['tanggal'].astype('int64')\n",
    "    df['jam'] = df['jam'].astype('int64')\n",
    "\n",
    "    df['hari'] = df['tanggal'].map(lambda x: day_dict[x % 7])\n",
    "    df['weekend'] = df['hari'].map(lambda x: 1 if x == 'Saturday' or x == 'Sunday' else 0)\n",
    "    \n",
    "    mean_per_hour = []\n",
    "    kelas_kelancaran = []\n",
    "    for i in range(0,24):\n",
    "        mean_per_hour.append(df[df['jam']==i]['rerata_kecepatan'].mean())\n",
    "\n",
    "    percentile_25 = np.percentile(mean_per_hour,25)\n",
    "    percentile_50 = np.percentile(mean_per_hour,50)\n",
    "    percentile_75 = np.percentile(mean_per_hour,75)\n",
    "\n",
    "    for i in range(len(mean_per_hour)):\n",
    "        if mean_per_hour[i] < percentile_25:\n",
    "            kelas_kelancaran.append(0)\n",
    "        elif mean_per_hour[i] < percentile_50:\n",
    "            kelas_kelancaran.append(1)\n",
    "        elif mean_per_hour[i] < percentile_75:\n",
    "            kelas_kelancaran.append(2)\n",
    "        else:\n",
    "            kelas_kelancaran.append(3)\n",
    "\n",
    "    df['kelas_kelancaran'] = 0\n",
    "    for i in range(len(df)):\n",
    "        df['kelas_kelancaran'][i] = kelas_kelancaran[df['jam'][i]]\n",
    "\n",
    "    test['kelas_kelancaran'] = 0\n",
    "    for i in range(len(test)):\n",
    "        test['kelas_kelancaran'][i] = kelas_kelancaran[test['jam'][i]]\n",
    "\n",
    "    test = test.drop(['waktu_setempat',  'tanggal', 'id_bagian_jalan'], axis=1)\n",
    "    test = pd.get_dummies(test, columns=['jam', 'hari'])\n",
    "\n",
    "    df = df.drop(['waktu_setempat',  'tanggal', 'id_bagian_jalan'], axis=1)\n",
    "    df = pd.get_dummies(df, columns=['jam', 'hari'])\n",
    "    \n",
    "    # menyamakan kolom pada train dan test\n",
    "    y = df['rerata_kecepatan']\n",
    "    X = df.drop(['rerata_kecepatan'], axis=1)\n",
    "    X = X[test.columns]\n",
    "\n",
    "    reg = RandomForestRegressor(random_state=42)\n",
    "    reg.fit(X, y)\n",
    "\n",
    "    forecast = reg.predict(test)\n",
    "\n",
    "    # If you want to convert the predictions into a DataFrame:\n",
    "    forecast_df= pd.DataFrame({'id':test_id, 'rerata_kecepatan':forecast.flatten().tolist()})\n",
    "\n",
    "    total_id = total_id + test_id.tolist()\n",
    "    total_forecast = total_forecast + forecast.flatten().tolist()\n",
    "\n",
    "    forecast_df.to_csv('df_hasil_prediksi_RF/hasil_prediksi_RF_' + nama_file, index=False)\n",
    "forecast_total_df= pd.DataFrame({'id':total_id, 'rerata_kecepatan':total_forecast})\n",
    "forecast_total_df = forecast_total_df.sort_values(by=['id'])\n",
    "forecast_total_df.to_csv('submission_Bintang_Riset_SC.csv', index=False)"
   ]
  }
 ],
 "metadata": {
  "kernelspec": {
   "display_name": "base",
   "language": "python",
   "name": "python3"
  },
  "language_info": {
   "codemirror_mode": {
    "name": "ipython",
    "version": 3
   },
   "file_extension": ".py",
   "mimetype": "text/x-python",
   "name": "python",
   "nbconvert_exporter": "python",
   "pygments_lexer": "ipython3",
   "version": "3.9.13"
  },
  "orig_nbformat": 4
 },
 "nbformat": 4,
 "nbformat_minor": 2
}
